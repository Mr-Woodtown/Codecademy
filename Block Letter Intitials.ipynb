{
 "cells": [
  {
   "cell_type": "code",
   "execution_count": 18,
   "id": "01693fb2",
   "metadata": {},
   "outputs": [
    {
     "name": "stdout",
     "output_type": "stream",
     "text": [
      "w   w\n",
      "w   w\n",
      "w   w\n",
      "w w w\n",
      "6\n",
      "7\n",
      "ww ww\n",
      "ww ww\n"
     ]
    }
   ],
   "source": [
    "#Cayden Wootton\n",
    "#I am related to the first counseler of the Church of Jesus Christ of Latter-day Saints of which I am a member of said church.\n",
    "i = 1\n",
    "upper_string = ' ccc '\n",
    "c_transition = 'c   c'\n",
    "bulk_of_c = 'c    '\n",
    "upper_w = 'w   w'\n",
    "w_2 = 'w w w'\n",
    "w_3 = 'ww ww'\n",
    "\n",
    "print(upper_string,upper_w)\n",
    "i += 1\n",
    "print(c_transition,upper_w)\n",
    "i += 1\n",
    "while i <= 5:\n",
    "  if i==3:\n",
    "    print(bulk_of_c,upper_w)\n",
    "  elif i==4:\n",
    "    print(bulk_of_c,w_2)\n",
    "  else:\n",
    "    print(bulk_of_c,w_3)\n",
    "  i += 1\n",
    "print(c_transition,w_3)\n",
    "print(upper_string,upper_w)\n",
    "\n",
    "#testing the lines needed for the \"W\" in my initals\n",
    "upper_w = 'w   w'\n",
    "w_2 = 'w w w'\n",
    "w_3 = 'ww ww'\n",
    "while i <= 8:\n",
    "  print(upper_w)\n",
    "  i += 1\n",
    "print(w_2)\n",
    "i += 1\n",
    "end_i = i + 2\n",
    "while i < end_i:\n",
    "  i += 1\n",
    "  print(w_3)\n",
    "print(upper_w)"
   ]
  }
 ],
 "metadata": {
  "kernelspec": {
   "display_name": "Python 3 (ipykernel)",
   "language": "python",
   "name": "python3"
  },
  "language_info": {
   "codemirror_mode": {
    "name": "ipython",
    "version": 3
   },
   "file_extension": ".py",
   "mimetype": "text/x-python",
   "name": "python",
   "nbconvert_exporter": "python",
   "pygments_lexer": "ipython3",
   "version": "3.8.8"
  }
 },
 "nbformat": 4,
 "nbformat_minor": 5
}
